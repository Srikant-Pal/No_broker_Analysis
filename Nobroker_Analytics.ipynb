{
 "cells": [
  {
   "cell_type": "markdown",
   "id": "4c33dcb3",
   "metadata": {},
   "source": [
    "Importing libraries"
   ]
  },
  {
   "cell_type": "code",
   "execution_count": 1,
   "id": "075fffbc",
   "metadata": {},
   "outputs": [],
   "source": [
    "import pandas as pd\n",
    "import numpy as np\n",
    "import matplotlib.pyplot as plt\n",
    "import seaborn as sns"
   ]
  },
  {
   "cell_type": "markdown",
   "id": "d9773c3d",
   "metadata": {},
   "source": [
    "Load and understand the Data"
   ]
  },
  {
   "cell_type": "code",
   "execution_count": 2,
   "id": "9d47ec43",
   "metadata": {},
   "outputs": [
    {
     "name": "stdout",
     "output_type": "stream",
     "text": [
      "<class 'pandas.core.frame.DataFrame'>\n",
      "RangeIndex: 19110 entries, 0 to 19109\n",
      "Data columns (total 36 columns):\n",
      " #   Column              Non-Null Count  Dtype  \n",
      "---  ------              --------------  -----  \n",
      " 0   active              19110 non-null  bool   \n",
      " 1   amenities           19110 non-null  object \n",
      " 2   balconies           19110 non-null  object \n",
      " 3   bathroom            19110 non-null  int64  \n",
      " 4   combineDescription  0 non-null      float64\n",
      " 5   completeStreetName  19108 non-null  object \n",
      " 6   deposit             19110 non-null  int64  \n",
      " 7   facing              19110 non-null  object \n",
      " 8   facingDesc          9569 non-null   object \n",
      " 9   floor               19110 non-null  int64  \n",
      " 10  furnishingDesc      19110 non-null  object \n",
      " 11  gym                 19110 non-null  bool   \n",
      " 12  id                  19110 non-null  object \n",
      " 13  isMaintenance       19110 non-null  bool   \n",
      " 14  lift                19110 non-null  bool   \n",
      " 15  loanAvailable       19110 non-null  bool   \n",
      " 16  locality            19104 non-null  object \n",
      " 17  localityId          19110 non-null  object \n",
      " 18  location            19110 non-null  object \n",
      " 19  maintenanceAmount   19110 non-null  object \n",
      " 20  ownerName           19110 non-null  object \n",
      " 21  parking             19110 non-null  object \n",
      " 22  parkingDesc         19110 non-null  object \n",
      " 23  propertyTitle       19110 non-null  object \n",
      " 24  propertyType        19110 non-null  object \n",
      " 25  property_age        19110 non-null  int64  \n",
      " 26  property_size       19110 non-null  int64  \n",
      " 27  reactivationSource  19047 non-null  object \n",
      " 28  rent_amount         19110 non-null  int64  \n",
      " 29  sharedAccomodation  19110 non-null  bool   \n",
      " 30  shortUrl            19110 non-null  object \n",
      " 31  swimmingPool        19110 non-null  bool   \n",
      " 32  totalFloor          19110 non-null  int64  \n",
      " 33  type_bhk            19110 non-null  object \n",
      " 34  waterSupply         19110 non-null  object \n",
      " 35  weight              0 non-null      float64\n",
      "dtypes: bool(7), float64(2), int64(7), object(20)\n",
      "memory usage: 4.4+ MB\n"
     ]
    },
    {
     "data": {
      "text/plain": [
       "(19110, 36)"
      ]
     },
     "execution_count": 2,
     "metadata": {},
     "output_type": "execute_result"
    }
   ],
   "source": [
    "df=pd.read_csv(r'C:\\Users\\ramak\\Downloads\\Historical Tropical Storm\\csv\\hyd_v2.csv')\n",
    "df.head()\n",
    "df.info()\n",
    "df.dtypes\n",
    "df.shape"
   ]
  },
  {
   "cell_type": "markdown",
   "id": "a9c0a1f4",
   "metadata": {},
   "source": [
    "Assumptions and  Data Cleaning"
   ]
  },
  {
   "cell_type": "code",
   "execution_count": 3,
   "id": "5e8eefae",
   "metadata": {},
   "outputs": [],
   "source": [
    "# Standardizing columns names\n",
    "df.columns=df.columns.str.strip().str.lower().str.replace(\" \",\"_\")\n",
    "\n",
    "# Removing 'combineDescription' and 'weight' as there are no values in it\n",
    "df.drop(columns=['combinedescription','weight'],inplace=True,errors='ignore')\n",
    "\n",
    "# In completestreetname i filled Not_Mentioned rather than deleting(2 nans was there).\n",
    "df['completestreetname'].fillna('Not_Mentioned',inplace=True)\n",
    "\n",
    "# In facingdesc column i have nan, filled with Unknown rather than removing\n",
    "df['facingdesc'].fillna('None',inplace=True)\n",
    "\n",
    "# In locality column i have 6 NaN filled with 'Unknown'\n",
    "df['locality'].fillna('Unknown',inplace=True)\n",
    "\n",
    "df['reactivationsource'].fillna('Unknown',inplace=True)\n",
    "\n",
    "# Converted this column to integer as string data type was there \n",
    "df['balconies']=pd.to_numeric(df['balconies'],errors='coerce').fillna(0).astype(int)\n",
    "\n",
    "# Converted this column to integer as string data type was there\n",
    "df['maintenanceamount']=pd.to_numeric(df['maintenanceamount'],errors='coerce').fillna(0).astype(int)"
   ]
  },
  {
   "cell_type": "markdown",
   "id": "4f436e24",
   "metadata": {},
   "source": [
    "Checking for duplicates,empty spaces/strings exist or not"
   ]
  },
  {
   "cell_type": "code",
   "execution_count": 4,
   "id": "a9e62e66",
   "metadata": {},
   "outputs": [],
   "source": [
    "# As i have 969 total duplicate rows,i will remove it\n",
    "df.duplicated().sum()\n",
    "\n",
    "# removing duplicates\n",
    "df=df.drop_duplicates()\n",
    "\n",
    "# checking for empty spaces/values  (False means everything is okay)\n",
    "(df=='').any().any()         \n",
    "\n",
    "# if any empty cells/strings found replace with NaNs \n",
    "df.replace(r'^\\s*$',pd.NA,regex=True,inplace=True)"
   ]
  },
  {
   "cell_type": "code",
   "execution_count": 5,
   "id": "209b9262",
   "metadata": {},
   "outputs": [],
   "source": [
    "# locality column was having inconsistencies like kondapur,kondapur, , ,kondapur, mygate,kondapur\n",
    "df['locality_clean']=df['locality'].str.split(',').str[-1].str.strip().str.title()\n",
    "# \n",
    "df = df[df['locality_clean'].str.replace(' ', '').str.isalpha()]"
   ]
  },
  {
   "cell_type": "markdown",
   "id": "69e665d4",
   "metadata": {},
   "source": [
    "Q1. What is the average rent amount by locality?"
   ]
  },
  {
   "cell_type": "code",
   "execution_count": 6,
   "id": "fe28517d",
   "metadata": {},
   "outputs": [
    {
     "data": {
      "text/html": [
       "<div>\n",
       "<style scoped>\n",
       "    .dataframe tbody tr th:only-of-type {\n",
       "        vertical-align: middle;\n",
       "    }\n",
       "\n",
       "    .dataframe tbody tr th {\n",
       "        vertical-align: top;\n",
       "    }\n",
       "\n",
       "    .dataframe thead th {\n",
       "        text-align: right;\n",
       "    }\n",
       "</style>\n",
       "<table border=\"1\" class=\"dataframe\">\n",
       "  <thead>\n",
       "    <tr style=\"text-align: right;\">\n",
       "      <th></th>\n",
       "      <th>locality_clean</th>\n",
       "      <th>Avg_Rent_Amount</th>\n",
       "    </tr>\n",
       "  </thead>\n",
       "  <tbody>\n",
       "    <tr>\n",
       "      <th>0</th>\n",
       "      <td>A S Rao Nagar</td>\n",
       "      <td>9338</td>\n",
       "    </tr>\n",
       "    <tr>\n",
       "      <th>1</th>\n",
       "      <td>Aarambh Township Flat Owners Association Office</td>\n",
       "      <td>9500</td>\n",
       "    </tr>\n",
       "    <tr>\n",
       "      <th>2</th>\n",
       "      <td>Aasritha Residency</td>\n",
       "      <td>7000</td>\n",
       "    </tr>\n",
       "    <tr>\n",
       "      <th>3</th>\n",
       "      <td>Abhyudaya Nagar</td>\n",
       "      <td>12000</td>\n",
       "    </tr>\n",
       "    <tr>\n",
       "      <th>4</th>\n",
       "      <td>Abids</td>\n",
       "      <td>21833</td>\n",
       "    </tr>\n",
       "    <tr>\n",
       "      <th>...</th>\n",
       "      <td>...</td>\n",
       "      <td>...</td>\n",
       "    </tr>\n",
       "    <tr>\n",
       "      <th>1471</th>\n",
       "      <td>Zahur Cottage</td>\n",
       "      <td>8500</td>\n",
       "    </tr>\n",
       "    <tr>\n",
       "      <th>1472</th>\n",
       "      <td>Zamistanpur</td>\n",
       "      <td>11088</td>\n",
       "    </tr>\n",
       "    <tr>\n",
       "      <th>1473</th>\n",
       "      <td>Zamistanpur Post Office</td>\n",
       "      <td>10500</td>\n",
       "    </tr>\n",
       "    <tr>\n",
       "      <th>1474</th>\n",
       "      <td>Zehera Nagar</td>\n",
       "      <td>14000</td>\n",
       "    </tr>\n",
       "    <tr>\n",
       "      <th>1475</th>\n",
       "      <td>Zzathnagar</td>\n",
       "      <td>9000</td>\n",
       "    </tr>\n",
       "  </tbody>\n",
       "</table>\n",
       "<p>1476 rows × 2 columns</p>\n",
       "</div>"
      ],
      "text/plain": [
       "                                       locality_clean  Avg_Rent_Amount\n",
       "0                                       A S Rao Nagar             9338\n",
       "1     Aarambh Township Flat Owners Association Office             9500\n",
       "2                                  Aasritha Residency             7000\n",
       "3                                     Abhyudaya Nagar            12000\n",
       "4                                               Abids            21833\n",
       "...                                               ...              ...\n",
       "1471                                    Zahur Cottage             8500\n",
       "1472                                      Zamistanpur            11088\n",
       "1473                          Zamistanpur Post Office            10500\n",
       "1474                                     Zehera Nagar            14000\n",
       "1475                                       Zzathnagar             9000\n",
       "\n",
       "[1476 rows x 2 columns]"
      ]
     },
     "execution_count": 6,
     "metadata": {},
     "output_type": "execute_result"
    }
   ],
   "source": [
    "#df.groupby('locality')['rent_amount'].mean().head()\n",
    "df.groupby('locality_clean')['rent_amount'].mean().round(0).astype(int).reset_index().rename(columns={'rent_amount':'Avg_Rent_Amount'})"
   ]
  },
  {
   "cell_type": "code",
   "execution_count": 7,
   "id": "01992614",
   "metadata": {},
   "outputs": [
    {
     "data": {
      "text/plain": [
       "13230.0"
      ]
     },
     "execution_count": 7,
     "metadata": {},
     "output_type": "execute_result"
    }
   ],
   "source": [
    "df.groupby('locality_clean')['rent_amount'].mean().round(0).loc['Qutub Shahi Tombs']"
   ]
  },
  {
   "cell_type": "code",
   "execution_count": 8,
   "id": "c41842d7",
   "metadata": {},
   "outputs": [
    {
     "data": {
      "text/plain": [
       "9338.0"
      ]
     },
     "execution_count": 8,
     "metadata": {},
     "output_type": "execute_result"
    }
   ],
   "source": [
    "df.groupby('locality_clean')['rent_amount'].mean().round(0).loc['A S Rao Nagar']"
   ]
  },
  {
   "cell_type": "code",
   "execution_count": 9,
   "id": "ae967c1d",
   "metadata": {},
   "outputs": [
    {
     "data": {
      "text/plain": [
       "13229.72972972973"
      ]
     },
     "execution_count": 9,
     "metadata": {},
     "output_type": "execute_result"
    }
   ],
   "source": [
    "df[df['locality'].str.contains('Qutub Shahi Tombs',case=False,na=False)]['rent_amount'].mean()"
   ]
  },
  {
   "cell_type": "code",
   "execution_count": 10,
   "id": "cfa9183a",
   "metadata": {},
   "outputs": [
    {
     "data": {
      "text/plain": [
       "24301"
      ]
     },
     "execution_count": 10,
     "metadata": {},
     "output_type": "execute_result"
    }
   ],
   "source": [
    "df[df['locality_clean'].str.contains('Gachibowli',case=False,na=False)]['rent_amount'].mean().round(0).astype(int)"
   ]
  },
  {
   "cell_type": "markdown",
   "id": "8a0d3d26",
   "metadata": {},
   "source": [
    "Q2. How does rent amount vary with the number of bedrooms (type_bhk)?"
   ]
  },
  {
   "cell_type": "code",
   "execution_count": 11,
   "id": "78b40be0",
   "metadata": {},
   "outputs": [
    {
     "data": {
      "text/html": [
       "<div>\n",
       "<style scoped>\n",
       "    .dataframe tbody tr th:only-of-type {\n",
       "        vertical-align: middle;\n",
       "    }\n",
       "\n",
       "    .dataframe tbody tr th {\n",
       "        vertical-align: top;\n",
       "    }\n",
       "\n",
       "    .dataframe thead th {\n",
       "        text-align: right;\n",
       "    }\n",
       "</style>\n",
       "<table border=\"1\" class=\"dataframe\">\n",
       "  <thead>\n",
       "    <tr style=\"text-align: right;\">\n",
       "      <th></th>\n",
       "      <th>active</th>\n",
       "      <th>amenities</th>\n",
       "      <th>balconies</th>\n",
       "      <th>bathroom</th>\n",
       "      <th>completestreetname</th>\n",
       "      <th>deposit</th>\n",
       "      <th>facing</th>\n",
       "      <th>facingdesc</th>\n",
       "      <th>floor</th>\n",
       "      <th>furnishingdesc</th>\n",
       "      <th>...</th>\n",
       "      <th>property_size</th>\n",
       "      <th>reactivationsource</th>\n",
       "      <th>rent_amount</th>\n",
       "      <th>sharedaccomodation</th>\n",
       "      <th>shorturl</th>\n",
       "      <th>swimmingpool</th>\n",
       "      <th>totalfloor</th>\n",
       "      <th>type_bhk</th>\n",
       "      <th>watersupply</th>\n",
       "      <th>locality_clean</th>\n",
       "    </tr>\n",
       "  </thead>\n",
       "  <tbody>\n",
       "    <tr>\n",
       "      <th>2072</th>\n",
       "      <td>True</td>\n",
       "      <td>{\"LIFT\":false,\"GYM\":false,\"INTERNET\":false,\"AC...</td>\n",
       "      <td>0</td>\n",
       "      <td>1</td>\n",
       "      <td>Janapriya Mahanagar, Lenin Nagar Near  Janapri...</td>\n",
       "      <td>5000</td>\n",
       "      <td>None</td>\n",
       "      <td>None</td>\n",
       "      <td>0</td>\n",
       "      <td>Unfurnished</td>\n",
       "      <td>...</td>\n",
       "      <td>400</td>\n",
       "      <td>None</td>\n",
       "      <td>2500</td>\n",
       "      <td>False</td>\n",
       "      <td>http://nobr.kr/sv/LL2jj</td>\n",
       "      <td>False</td>\n",
       "      <td>1</td>\n",
       "      <td>BHK1</td>\n",
       "      <td>CORP_BORE</td>\n",
       "      <td>Meerpet</td>\n",
       "    </tr>\n",
       "    <tr>\n",
       "      <th>2844</th>\n",
       "      <td>True</td>\n",
       "      <td>{\"LIFT\":false,\"GYM\":false,\"INTERNET\":false,\"AC...</td>\n",
       "      <td>0</td>\n",
       "      <td>1</td>\n",
       "      <td>Venkatadri Theatre Land, Madhura Puri, Gaddi A...</td>\n",
       "      <td>5000</td>\n",
       "      <td>DK</td>\n",
       "      <td>Don't Know</td>\n",
       "      <td>3</td>\n",
       "      <td>Unfurnished</td>\n",
       "      <td>...</td>\n",
       "      <td>600</td>\n",
       "      <td>None</td>\n",
       "      <td>4</td>\n",
       "      <td>False</td>\n",
       "      <td>http://nobr.kr/sv/82ysj</td>\n",
       "      <td>False</td>\n",
       "      <td>3</td>\n",
       "      <td>BHK1</td>\n",
       "      <td>None</td>\n",
       "      <td>Dilsukhnagar</td>\n",
       "    </tr>\n",
       "    <tr>\n",
       "      <th>3147</th>\n",
       "      <td>True</td>\n",
       "      <td>{\"LIFT\":false,\"GYM\":false,\"INTERNET\":false,\"AC...</td>\n",
       "      <td>1</td>\n",
       "      <td>2</td>\n",
       "      <td>Chitrapuri Colony, Bagh Lingampalli,Near Divya...</td>\n",
       "      <td>4000</td>\n",
       "      <td>None</td>\n",
       "      <td>None</td>\n",
       "      <td>2</td>\n",
       "      <td>Unfurnished</td>\n",
       "      <td>...</td>\n",
       "      <td>450</td>\n",
       "      <td>OWNER</td>\n",
       "      <td>2000</td>\n",
       "      <td>False</td>\n",
       "      <td>http://nobr.kr/sv/KFnHj</td>\n",
       "      <td>False</td>\n",
       "      <td>3</td>\n",
       "      <td>BHK1</td>\n",
       "      <td>CORPORATION</td>\n",
       "      <td>Narayanaguda</td>\n",
       "    </tr>\n",
       "    <tr>\n",
       "      <th>8194</th>\n",
       "      <td>True</td>\n",
       "      <td>{\"INTERCOM\":false,\"AC\":false,\"RWH\":false,\"HK\":...</td>\n",
       "      <td>1</td>\n",
       "      <td>1</td>\n",
       "      <td>pragathi colony,meerpet,near sri chaitanya school</td>\n",
       "      <td>10000</td>\n",
       "      <td>N</td>\n",
       "      <td>North</td>\n",
       "      <td>2</td>\n",
       "      <td>Unfurnished</td>\n",
       "      <td>...</td>\n",
       "      <td>550</td>\n",
       "      <td>None</td>\n",
       "      <td>500</td>\n",
       "      <td>False</td>\n",
       "      <td>http://nobr.kr/sv/r36Qh</td>\n",
       "      <td>False</td>\n",
       "      <td>2</td>\n",
       "      <td>BHK1</td>\n",
       "      <td>BOREWELL</td>\n",
       "      <td>Meerpet</td>\n",
       "    </tr>\n",
       "    <tr>\n",
       "      <th>9684</th>\n",
       "      <td>True</td>\n",
       "      <td>{\"LIFT\":false,\"GYM\":false,\"INTERNET\":true,\"AC\"...</td>\n",
       "      <td>1</td>\n",
       "      <td>1</td>\n",
       "      <td>Siva Sai Puram, Near Post Office Badangpet</td>\n",
       "      <td>2500</td>\n",
       "      <td>W</td>\n",
       "      <td>West</td>\n",
       "      <td>0</td>\n",
       "      <td>Semi</td>\n",
       "      <td>...</td>\n",
       "      <td>900</td>\n",
       "      <td>PROPERTY_DASHBOARD</td>\n",
       "      <td>2500</td>\n",
       "      <td>False</td>\n",
       "      <td>http://nobr.kr/sv/ZfTb9</td>\n",
       "      <td>False</td>\n",
       "      <td>1</td>\n",
       "      <td>BHK1</td>\n",
       "      <td>CORP_BORE</td>\n",
       "      <td>Badangpet</td>\n",
       "    </tr>\n",
       "  </tbody>\n",
       "</table>\n",
       "<p>5 rows × 35 columns</p>\n",
       "</div>"
      ],
      "text/plain": [
       "      active                                          amenities  balconies  \\\n",
       "2072    True  {\"LIFT\":false,\"GYM\":false,\"INTERNET\":false,\"AC...          0   \n",
       "2844    True  {\"LIFT\":false,\"GYM\":false,\"INTERNET\":false,\"AC...          0   \n",
       "3147    True  {\"LIFT\":false,\"GYM\":false,\"INTERNET\":false,\"AC...          1   \n",
       "8194    True  {\"INTERCOM\":false,\"AC\":false,\"RWH\":false,\"HK\":...          1   \n",
       "9684    True  {\"LIFT\":false,\"GYM\":false,\"INTERNET\":true,\"AC\"...          1   \n",
       "\n",
       "      bathroom                                 completestreetname  deposit  \\\n",
       "2072         1  Janapriya Mahanagar, Lenin Nagar Near  Janapri...     5000   \n",
       "2844         1  Venkatadri Theatre Land, Madhura Puri, Gaddi A...     5000   \n",
       "3147         2  Chitrapuri Colony, Bagh Lingampalli,Near Divya...     4000   \n",
       "8194         1  pragathi colony,meerpet,near sri chaitanya school    10000   \n",
       "9684         1         Siva Sai Puram, Near Post Office Badangpet     2500   \n",
       "\n",
       "     facing  facingdesc  floor furnishingdesc  ...  property_size  \\\n",
       "2072   None        None      0    Unfurnished  ...            400   \n",
       "2844     DK  Don't Know      3    Unfurnished  ...            600   \n",
       "3147   None        None      2    Unfurnished  ...            450   \n",
       "8194      N       North      2    Unfurnished  ...            550   \n",
       "9684      W        West      0           Semi  ...            900   \n",
       "\n",
       "      reactivationsource  rent_amount  sharedaccomodation  \\\n",
       "2072                None         2500               False   \n",
       "2844                None            4               False   \n",
       "3147               OWNER         2000               False   \n",
       "8194                None          500               False   \n",
       "9684  PROPERTY_DASHBOARD         2500               False   \n",
       "\n",
       "                     shorturl swimmingpool totalfloor type_bhk  watersupply  \\\n",
       "2072  http://nobr.kr/sv/LL2jj        False          1     BHK1    CORP_BORE   \n",
       "2844  http://nobr.kr/sv/82ysj        False          3     BHK1         None   \n",
       "3147  http://nobr.kr/sv/KFnHj        False          3     BHK1  CORPORATION   \n",
       "8194  http://nobr.kr/sv/r36Qh        False          2     BHK1     BOREWELL   \n",
       "9684  http://nobr.kr/sv/ZfTb9        False          1     BHK1    CORP_BORE   \n",
       "\n",
       "     locality_clean  \n",
       "2072        Meerpet  \n",
       "2844   Dilsukhnagar  \n",
       "3147   Narayanaguda  \n",
       "8194        Meerpet  \n",
       "9684      Badangpet  \n",
       "\n",
       "[5 rows x 35 columns]"
      ]
     },
     "execution_count": 11,
     "metadata": {},
     "output_type": "execute_result"
    }
   ],
   "source": [
    "df[(df['rent_amount']<3000) & (df['type_bhk']=='BHK1')]"
   ]
  },
  {
   "cell_type": "markdown",
   "id": "55efe9ca",
   "metadata": {},
   "source": [
    "Cleanup--Finding outliers"
   ]
  },
  {
   "cell_type": "code",
   "execution_count": 12,
   "id": "a9369a83",
   "metadata": {},
   "outputs": [
    {
     "data": {
      "image/png": "[encoded data removed]",
      "text/plain": [
       "<Figure size 640x480 with 1 Axes>"
      ]
     },
     "metadata": {},
     "output_type": "display_data"
    }
   ],
   "source": [
    "sns.boxplot(x=df['rent_amount'])\n",
    "plt.show()"
   ]
  },
  {
   "cell_type": "code",
   "execution_count": 13,
   "id": "4a133444",
   "metadata": {},
   "outputs": [],
   "source": [
    "Q1=df['rent_amount'].quantile(0.25)\n",
    "Q3=df['rent_amount'].quantile(0.75)\n",
    "IQR=Q3-Q1\n",
    "\n",
    "lower_bound=Q1-1.5*IQR\n",
    "upper_bound=Q3+1.5*IQR\n",
    "\n",
    "# filtering outliers\n",
    "outliers=df[(df['rent_amount'] < lower_bound) | (df['rent_amount'] > upper_bound)]\n",
    "\n",
    "# removing outliers\n",
    "df1=df[(df['rent_amount'] >= lower_bound) & (df['rent_amount'] <= upper_bound)]"
   ]
  },
  {
   "cell_type": "code",
   "execution_count": 14,
   "id": "d936ef7d",
   "metadata": {},
   "outputs": [
    {
     "data": {
      "text/plain": [
       "type_bhk\n",
       "BHK1         8383\n",
       "BHK2        13537\n",
       "BHK3        21063\n",
       "BHK4        21612\n",
       "BHK4PLUS    19700\n",
       "RK1          5832\n",
       "Name: rent_amount, dtype: int32"
      ]
     },
     "execution_count": 14,
     "metadata": {},
     "output_type": "execute_result"
    }
   ],
   "source": [
    "df1.groupby('type_bhk')['rent_amount'].mean().round(0).astype(int)"
   ]
  },
  {
   "cell_type": "code",
   "execution_count": 15,
   "id": "859300e5",
   "metadata": {},
   "outputs": [
    {
     "data": {
      "text/plain": [
       "10187"
      ]
     },
     "execution_count": 15,
     "metadata": {},
     "output_type": "execute_result"
    }
   ],
   "source": [
    "df1[df1['locality'].str.contains('LB Nagar',case=False,na=False)]['rent_amount'].mean().round(0).astype(int)"
   ]
  },
  {
   "cell_type": "code",
   "execution_count": 16,
   "id": "c3e93dad",
   "metadata": {},
   "outputs": [
    {
     "data": {
      "text/html": [
       "<div>\n",
       "<style scoped>\n",
       "    .dataframe tbody tr th:only-of-type {\n",
       "        vertical-align: middle;\n",
       "    }\n",
       "\n",
       "    .dataframe tbody tr th {\n",
       "        vertical-align: top;\n",
       "    }\n",
       "\n",
       "    .dataframe thead th {\n",
       "        text-align: right;\n",
       "    }\n",
       "</style>\n",
       "<table border=\"1\" class=\"dataframe\">\n",
       "  <thead>\n",
       "    <tr style=\"text-align: right;\">\n",
       "      <th></th>\n",
       "      <th>active</th>\n",
       "      <th>amenities</th>\n",
       "      <th>balconies</th>\n",
       "      <th>bathroom</th>\n",
       "      <th>completestreetname</th>\n",
       "      <th>deposit</th>\n",
       "      <th>facing</th>\n",
       "      <th>facingdesc</th>\n",
       "      <th>floor</th>\n",
       "      <th>furnishingdesc</th>\n",
       "      <th>...</th>\n",
       "      <th>property_size</th>\n",
       "      <th>reactivationsource</th>\n",
       "      <th>rent_amount</th>\n",
       "      <th>sharedaccomodation</th>\n",
       "      <th>shorturl</th>\n",
       "      <th>swimmingpool</th>\n",
       "      <th>totalfloor</th>\n",
       "      <th>type_bhk</th>\n",
       "      <th>watersupply</th>\n",
       "      <th>locality_clean</th>\n",
       "    </tr>\n",
       "  </thead>\n",
       "  <tbody>\n",
       "    <tr>\n",
       "      <th>0</th>\n",
       "      <td>True</td>\n",
       "      <td>{\"LIFT\":true,\"GYM\":false,\"INTERNET\":false,\"AC\"...</td>\n",
       "      <td>3</td>\n",
       "      <td>3</td>\n",
       "      <td>Shreya carnation, Block I, NCB Enclave, Gachib...</td>\n",
       "      <td>90000</td>\n",
       "      <td>W</td>\n",
       "      <td>West</td>\n",
       "      <td>3</td>\n",
       "      <td>Semi</td>\n",
       "      <td>...</td>\n",
       "      <td>2200</td>\n",
       "      <td>USER_DASHBOARD</td>\n",
       "      <td>28000</td>\n",
       "      <td>False</td>\n",
       "      <td>http://nobr.kr/sv/9Kvqj</td>\n",
       "      <td>False</td>\n",
       "      <td>5</td>\n",
       "      <td>BHK3</td>\n",
       "      <td>CORP_BORE</td>\n",
       "      <td>Gachibowli</td>\n",
       "    </tr>\n",
       "    <tr>\n",
       "      <th>2</th>\n",
       "      <td>True</td>\n",
       "      <td>{\"LIFT\":true,\"GYM\":true,\"INTERNET\":false,\"AC\":...</td>\n",
       "      <td>3</td>\n",
       "      <td>3</td>\n",
       "      <td>Rd Number 2, Shirdi Sai Nagar, Manikonda, Hyde...</td>\n",
       "      <td>80000</td>\n",
       "      <td>E</td>\n",
       "      <td>East</td>\n",
       "      <td>0</td>\n",
       "      <td>Semi</td>\n",
       "      <td>...</td>\n",
       "      <td>1800</td>\n",
       "      <td>MISSED_CALL</td>\n",
       "      <td>16000</td>\n",
       "      <td>False</td>\n",
       "      <td>http://nobr.kr/sv/TXJmj</td>\n",
       "      <td>False</td>\n",
       "      <td>3</td>\n",
       "      <td>BHK3</td>\n",
       "      <td>CORP_BORE</td>\n",
       "      <td>Manikonda</td>\n",
       "    </tr>\n",
       "    <tr>\n",
       "      <th>5</th>\n",
       "      <td>True</td>\n",
       "      <td>{\"LIFT\":true,\"GYM\":true,\"INTERNET\":false,\"AC\":...</td>\n",
       "      <td>3</td>\n",
       "      <td>3</td>\n",
       "      <td>Kondapur Main Road</td>\n",
       "      <td>66000</td>\n",
       "      <td>N</td>\n",
       "      <td>North</td>\n",
       "      <td>5</td>\n",
       "      <td>Semi</td>\n",
       "      <td>...</td>\n",
       "      <td>1517</td>\n",
       "      <td>MISSED_CALL</td>\n",
       "      <td>33000</td>\n",
       "      <td>False</td>\n",
       "      <td>http://nobr.kr/sv/KJPR6</td>\n",
       "      <td>True</td>\n",
       "      <td>6</td>\n",
       "      <td>BHK3</td>\n",
       "      <td>CORP_BORE</td>\n",
       "      <td>Kondapur</td>\n",
       "    </tr>\n",
       "    <tr>\n",
       "      <th>6</th>\n",
       "      <td>True</td>\n",
       "      <td>{\"LIFT\":true,\"GYM\":true,\"INTERNET\":true,\"AC\":t...</td>\n",
       "      <td>1</td>\n",
       "      <td>2</td>\n",
       "      <td>Wipro Junction, Gachibowli, Hyderabad, Telanga...</td>\n",
       "      <td>60000</td>\n",
       "      <td>E</td>\n",
       "      <td>East</td>\n",
       "      <td>20</td>\n",
       "      <td>Semi</td>\n",
       "      <td>...</td>\n",
       "      <td>1198</td>\n",
       "      <td>None</td>\n",
       "      <td>29000</td>\n",
       "      <td>False</td>\n",
       "      <td>http://nobr.kr/sv/BxQcc</td>\n",
       "      <td>True</td>\n",
       "      <td>24</td>\n",
       "      <td>BHK3</td>\n",
       "      <td>CORP_BORE</td>\n",
       "      <td>Gachibowli</td>\n",
       "    </tr>\n",
       "    <tr>\n",
       "      <th>9</th>\n",
       "      <td>True</td>\n",
       "      <td>{\"LIFT\":true,\"GYM\":false,\"INTERNET\":false,\"AC\"...</td>\n",
       "      <td>2</td>\n",
       "      <td>2</td>\n",
       "      <td>Azaan International School, 7 Tombs Road, Arun...</td>\n",
       "      <td>28000</td>\n",
       "      <td>SW</td>\n",
       "      <td>South-West</td>\n",
       "      <td>5</td>\n",
       "      <td>Unfurnished</td>\n",
       "      <td>...</td>\n",
       "      <td>950</td>\n",
       "      <td>MISSED_CALL</td>\n",
       "      <td>14000</td>\n",
       "      <td>False</td>\n",
       "      <td>http://nobr.kr/sv/Rckv3</td>\n",
       "      <td>False</td>\n",
       "      <td>6</td>\n",
       "      <td>BHK2</td>\n",
       "      <td>CORP_BORE</td>\n",
       "      <td>Toli Chowki</td>\n",
       "    </tr>\n",
       "  </tbody>\n",
       "</table>\n",
       "<p>5 rows × 35 columns</p>\n",
       "</div>"
      ],
      "text/plain": [
       "   active                                          amenities  balconies  \\\n",
       "0    True  {\"LIFT\":true,\"GYM\":false,\"INTERNET\":false,\"AC\"...          3   \n",
       "2    True  {\"LIFT\":true,\"GYM\":true,\"INTERNET\":false,\"AC\":...          3   \n",
       "5    True  {\"LIFT\":true,\"GYM\":true,\"INTERNET\":false,\"AC\":...          3   \n",
       "6    True  {\"LIFT\":true,\"GYM\":true,\"INTERNET\":true,\"AC\":t...          1   \n",
       "9    True  {\"LIFT\":true,\"GYM\":false,\"INTERNET\":false,\"AC\"...          2   \n",
       "\n",
       "   bathroom                                 completestreetname  deposit  \\\n",
       "0         3  Shreya carnation, Block I, NCB Enclave, Gachib...    90000   \n",
       "2         3  Rd Number 2, Shirdi Sai Nagar, Manikonda, Hyde...    80000   \n",
       "5         3                                 Kondapur Main Road    66000   \n",
       "6         2  Wipro Junction, Gachibowli, Hyderabad, Telanga...    60000   \n",
       "9         2  Azaan International School, 7 Tombs Road, Arun...    28000   \n",
       "\n",
       "  facing  facingdesc  floor furnishingdesc  ...  property_size  \\\n",
       "0      W        West      3           Semi  ...           2200   \n",
       "2      E        East      0           Semi  ...           1800   \n",
       "5      N       North      5           Semi  ...           1517   \n",
       "6      E        East     20           Semi  ...           1198   \n",
       "9     SW  South-West      5    Unfurnished  ...            950   \n",
       "\n",
       "  reactivationsource  rent_amount  sharedaccomodation  \\\n",
       "0     USER_DASHBOARD        28000               False   \n",
       "2        MISSED_CALL        16000               False   \n",
       "5        MISSED_CALL        33000               False   \n",
       "6               None        29000               False   \n",
       "9        MISSED_CALL        14000               False   \n",
       "\n",
       "                  shorturl swimmingpool totalfloor type_bhk  watersupply  \\\n",
       "0  http://nobr.kr/sv/9Kvqj        False          5     BHK3    CORP_BORE   \n",
       "2  http://nobr.kr/sv/TXJmj        False          3     BHK3    CORP_BORE   \n",
       "5  http://nobr.kr/sv/KJPR6         True          6     BHK3    CORP_BORE   \n",
       "6  http://nobr.kr/sv/BxQcc         True         24     BHK3    CORP_BORE   \n",
       "9  http://nobr.kr/sv/Rckv3        False          6     BHK2    CORP_BORE   \n",
       "\n",
       "  locality_clean  \n",
       "0     Gachibowli  \n",
       "2      Manikonda  \n",
       "5       Kondapur  \n",
       "6     Gachibowli  \n",
       "9    Toli Chowki  \n",
       "\n",
       "[5 rows x 35 columns]"
      ]
     },
     "execution_count": 16,
     "metadata": {},
     "output_type": "execute_result"
    }
   ],
   "source": [
    "# BHK 1: Rent between 4k and 18000\n",
    "bhk1_filter=(df['type_bhk']=='BHK1') & (df['rent_amount']>=4000) & (df['rent_amount']<=18000)\n",
    "# BHK2: Rent between 13000 and 30000\n",
    "bhk2_filter=(df['type_bhk']=='BHK2') & (df['rent_amount']>=13000) & (df['rent_amount']<=30000)\n",
    "# BHK3: Rent between 16000 and 45000\n",
    "bhk3_filter=(df['type_bhk']=='BHK3') & (df['rent_amount']>=16000) & (df['rent_amount']<=45000)\n",
    "# BHK4: Rent betwen 25k and 50k\n",
    "bhk4_filter=(df['type_bhk']=='BHK4') & (df['rent_amount']>=25000) & (df['rent_amount']<=50000)\n",
    "# BHK4PLUS: Rent between 35k and 70k\n",
    "bhk4plus_filter=(df['type_bhk']=='BHK4PLUS') & (df['rent_amount']>=35000) & (df['rent_amount']<=70000)\n",
    "# RK1: rent between 1800 and 6000\n",
    "rk1_filter=(df['type_bhk']=='RK1') & (df['rent_amount']>=1800) & (df['rent_amount']<=6000)\n",
    "\n",
    "final_filter= bhk1_filter | bhk2_filter | bhk3_filter | bhk4_filter | bhk4plus_filter | rk1_filter\n",
    "df3=df[final_filter]\n",
    "df3.head()"
   ]
  },
  {
   "cell_type": "code",
   "execution_count": 17,
   "id": "7ab6b228",
   "metadata": {},
   "outputs": [
    {
     "data": {
      "text/html": [
       "<div>\n",
       "<style scoped>\n",
       "    .dataframe tbody tr th:only-of-type {\n",
       "        vertical-align: middle;\n",
       "    }\n",
       "\n",
       "    .dataframe tbody tr th {\n",
       "        vertical-align: top;\n",
       "    }\n",
       "\n",
       "    .dataframe thead th {\n",
       "        text-align: right;\n",
       "    }\n",
       "</style>\n",
       "<table border=\"1\" class=\"dataframe\">\n",
       "  <thead>\n",
       "    <tr style=\"text-align: right;\">\n",
       "      <th></th>\n",
       "      <th>mean</th>\n",
       "      <th>min</th>\n",
       "      <th>max</th>\n",
       "    </tr>\n",
       "    <tr>\n",
       "      <th>type_bhk</th>\n",
       "      <th></th>\n",
       "      <th></th>\n",
       "      <th></th>\n",
       "    </tr>\n",
       "  </thead>\n",
       "  <tbody>\n",
       "    <tr>\n",
       "      <th>BHK1</th>\n",
       "      <td>8370.5</td>\n",
       "      <td>4000</td>\n",
       "      <td>18000</td>\n",
       "    </tr>\n",
       "    <tr>\n",
       "      <th>BHK2</th>\n",
       "      <td>17001.9</td>\n",
       "      <td>13000</td>\n",
       "      <td>30000</td>\n",
       "    </tr>\n",
       "    <tr>\n",
       "      <th>BHK3</th>\n",
       "      <td>25791.7</td>\n",
       "      <td>16000</td>\n",
       "      <td>45000</td>\n",
       "    </tr>\n",
       "    <tr>\n",
       "      <th>BHK4</th>\n",
       "      <td>37408.7</td>\n",
       "      <td>25000</td>\n",
       "      <td>50000</td>\n",
       "    </tr>\n",
       "    <tr>\n",
       "      <th>BHK4PLUS</th>\n",
       "      <td>53848.5</td>\n",
       "      <td>35000</td>\n",
       "      <td>70000</td>\n",
       "    </tr>\n",
       "    <tr>\n",
       "      <th>RK1</th>\n",
       "      <td>4552.1</td>\n",
       "      <td>1800</td>\n",
       "      <td>6000</td>\n",
       "    </tr>\n",
       "  </tbody>\n",
       "</table>\n",
       "</div>"
      ],
      "text/plain": [
       "             mean    min    max\n",
       "type_bhk                       \n",
       "BHK1       8370.5   4000  18000\n",
       "BHK2      17001.9  13000  30000\n",
       "BHK3      25791.7  16000  45000\n",
       "BHK4      37408.7  25000  50000\n",
       "BHK4PLUS  53848.5  35000  70000\n",
       "RK1        4552.1   1800   6000"
      ]
     },
     "execution_count": 17,
     "metadata": {},
     "output_type": "execute_result"
    }
   ],
   "source": [
    "df3.groupby('type_bhk')['rent_amount'].agg(mean='mean',min='min',max='max').round(1)"
   ]
  },
  {
   "cell_type": "markdown",
   "id": "422f8932",
   "metadata": {},
   "source": [
    "splitting amenities column: json -> python dictionary -> series(columns)"
   ]
  },
  {
   "cell_type": "code",
   "execution_count": 18,
   "id": "8ea91048",
   "metadata": {},
   "outputs": [],
   "source": [
    "import json\n",
    "\n",
    "# clean the amenities col to ignore empty or bad json rows\n",
    "def safe_json_load(s):\n",
    "    try:\n",
    "        return json.loads(s)\n",
    "    except:\n",
    "        return {}\n",
    "# amenities column is a json, converting it to a dictionary\n",
    "df3_amenities = df3['amenities'].apply(safe_json_load).apply(lambda x: pd.Series(x, dtype='object'))\n",
    "# merginf this back to original dataframe\n",
    "df3 = pd.concat([df3.drop('amenities', axis=1), df3_amenities], axis=1)"
   ]
  },
  {
   "cell_type": "code",
   "execution_count": 19,
   "id": "eb75be81",
   "metadata": {},
   "outputs": [],
   "source": [
    "columns=['id','INTERNET','AC','INTERCOM','POOL', 'CPA', 'FS', 'SERVANT','SC', 'GP','RWH','STP', 'HK', 'PB', 'VP']\n",
    "df3.drop(columns=columns,inplace=True,errors='ignore')"
   ]
  },
  {
   "cell_type": "code",
   "execution_count": 20,
   "id": "4bd927ce",
   "metadata": {},
   "outputs": [],
   "source": [
    "df3.columns=df3.columns.str.lower()"
   ]
  },
  {
   "cell_type": "code",
   "execution_count": 21,
   "id": "6d028177",
   "metadata": {},
   "outputs": [],
   "source": [
    "df3 = df3.loc[:, ~df3.columns.duplicated()]"
   ]
  },
  {
   "cell_type": "code",
   "execution_count": 22,
   "id": "f8f19143",
   "metadata": {},
   "outputs": [
    {
     "data": {
      "text/plain": [
       "Index(['active', 'balconies', 'bathroom', 'completestreetname', 'deposit',\n",
       "       'facing', 'facingdesc', 'floor', 'furnishingdesc', 'gym',\n",
       "       'ismaintenance', 'lift', 'loanavailable', 'locality', 'localityid',\n",
       "       'location', 'maintenanceamount', 'ownername', 'parking', 'parkingdesc',\n",
       "       'propertytitle', 'propertytype', 'property_age', 'property_size',\n",
       "       'reactivationsource', 'rent_amount', 'sharedaccomodation', 'shorturl',\n",
       "       'swimmingpool', 'totalfloor', 'type_bhk', 'watersupply',\n",
       "       'locality_clean', 'club', 'security', 'park'],\n",
       "      dtype='object')"
      ]
     },
     "execution_count": 22,
     "metadata": {},
     "output_type": "execute_result"
    }
   ],
   "source": [
    "df3.columns"
   ]
  },
  {
   "cell_type": "code",
   "execution_count": 23,
   "id": "36f639f1",
   "metadata": {},
   "outputs": [],
   "source": [
    "# filled with mode\n",
    "df3['club']=df3['club'].fillna(df3['club'].mode()[0])"
   ]
  },
  {
   "cell_type": "code",
   "execution_count": 24,
   "id": "861ff5d5",
   "metadata": {},
   "outputs": [],
   "source": [
    "# deleted nan\n",
    "df3[df3['security'].isna()].index\n",
    "df3.drop(index=df3[df3['security'].isna()].index,inplace=True,errors='ignore')\n"
   ]
  },
  {
   "cell_type": "code",
   "execution_count": null,
   "id": "cd372927",
   "metadata": {},
   "outputs": [],
   "source": []
  },
  {
   "cell_type": "markdown",
   "id": "22b9df07",
   "metadata": {},
   "source": [
    "Q1. What is the average rent amount by locality?"
   ]
  },
  {
   "cell_type": "code",
   "execution_count": 25,
   "id": "0d17ccc1",
   "metadata": {},
   "outputs": [
    {
     "data": {
      "text/plain": [
       "23386.1"
      ]
     },
     "execution_count": 25,
     "metadata": {},
     "output_type": "execute_result"
    }
   ],
   "source": [
    "df3.groupby('locality')['rent_amount'].mean().loc['Gachibowli'].round(1)"
   ]
  },
  {
   "cell_type": "markdown",
   "id": "830fdc1c",
   "metadata": {},
   "source": [
    "Q2.How does rent amount vary with the number of bedrooms (type_bhk)?"
   ]
  },
  {
   "cell_type": "code",
   "execution_count": 26,
   "id": "9bdd863f",
   "metadata": {},
   "outputs": [
    {
     "data": {
      "text/html": [
       "<div>\n",
       "<style scoped>\n",
       "    .dataframe tbody tr th:only-of-type {\n",
       "        vertical-align: middle;\n",
       "    }\n",
       "\n",
       "    .dataframe tbody tr th {\n",
       "        vertical-align: top;\n",
       "    }\n",
       "\n",
       "    .dataframe thead th {\n",
       "        text-align: right;\n",
       "    }\n",
       "</style>\n",
       "<table border=\"1\" class=\"dataframe\">\n",
       "  <thead>\n",
       "    <tr style=\"text-align: right;\">\n",
       "      <th></th>\n",
       "      <th>mean</th>\n",
       "      <th>min</th>\n",
       "      <th>max</th>\n",
       "    </tr>\n",
       "    <tr>\n",
       "      <th>type_bhk</th>\n",
       "      <th></th>\n",
       "      <th></th>\n",
       "      <th></th>\n",
       "    </tr>\n",
       "  </thead>\n",
       "  <tbody>\n",
       "    <tr>\n",
       "      <th>BHK1</th>\n",
       "      <td>8382.3</td>\n",
       "      <td>4000</td>\n",
       "      <td>18000</td>\n",
       "    </tr>\n",
       "    <tr>\n",
       "      <th>BHK2</th>\n",
       "      <td>17012.8</td>\n",
       "      <td>13000</td>\n",
       "      <td>30000</td>\n",
       "    </tr>\n",
       "    <tr>\n",
       "      <th>BHK3</th>\n",
       "      <td>25824.0</td>\n",
       "      <td>16000</td>\n",
       "      <td>45000</td>\n",
       "    </tr>\n",
       "    <tr>\n",
       "      <th>BHK4</th>\n",
       "      <td>37408.7</td>\n",
       "      <td>25000</td>\n",
       "      <td>50000</td>\n",
       "    </tr>\n",
       "    <tr>\n",
       "      <th>BHK4PLUS</th>\n",
       "      <td>53848.5</td>\n",
       "      <td>35000</td>\n",
       "      <td>70000</td>\n",
       "    </tr>\n",
       "    <tr>\n",
       "      <th>RK1</th>\n",
       "      <td>4550.9</td>\n",
       "      <td>1800</td>\n",
       "      <td>6000</td>\n",
       "    </tr>\n",
       "  </tbody>\n",
       "</table>\n",
       "</div>"
      ],
      "text/plain": [
       "             mean    min    max\n",
       "type_bhk                       \n",
       "BHK1       8382.3   4000  18000\n",
       "BHK2      17012.8  13000  30000\n",
       "BHK3      25824.0  16000  45000\n",
       "BHK4      37408.7  25000  50000\n",
       "BHK4PLUS  53848.5  35000  70000\n",
       "RK1        4550.9   1800   6000"
      ]
     },
     "execution_count": 26,
     "metadata": {},
     "output_type": "execute_result"
    }
   ],
   "source": [
    "df3.groupby('type_bhk')['rent_amount'].agg(mean='mean',min='min',max='max').round(1)"
   ]
  },
  {
   "cell_type": "markdown",
   "id": "70a68876",
   "metadata": {},
   "source": [
    "Q3.What is the distribution of property sizes across different localities?"
   ]
  },
  {
   "cell_type": "code",
   "execution_count": 27,
   "id": "80db19ea",
   "metadata": {},
   "outputs": [
    {
     "data": {
      "text/html": [
       "<div>\n",
       "<style scoped>\n",
       "    .dataframe tbody tr th:only-of-type {\n",
       "        vertical-align: middle;\n",
       "    }\n",
       "\n",
       "    .dataframe tbody tr th {\n",
       "        vertical-align: top;\n",
       "    }\n",
       "\n",
       "    .dataframe thead th {\n",
       "        text-align: right;\n",
       "    }\n",
       "</style>\n",
       "<table border=\"1\" class=\"dataframe\">\n",
       "  <thead>\n",
       "    <tr style=\"text-align: right;\">\n",
       "      <th></th>\n",
       "      <th>mean</th>\n",
       "      <th>min</th>\n",
       "      <th>max</th>\n",
       "    </tr>\n",
       "    <tr>\n",
       "      <th>locality</th>\n",
       "      <th></th>\n",
       "      <th></th>\n",
       "      <th></th>\n",
       "    </tr>\n",
       "  </thead>\n",
       "  <tbody>\n",
       "    <tr>\n",
       "      <th>Chanda Nagar</th>\n",
       "      <td>1100.0</td>\n",
       "      <td>1100</td>\n",
       "      <td>1100</td>\n",
       "    </tr>\n",
       "    <tr>\n",
       "      <th>Kukatpally</th>\n",
       "      <td>800.0</td>\n",
       "      <td>800</td>\n",
       "      <td>800</td>\n",
       "    </tr>\n",
       "    <tr>\n",
       "      <th>Nacharam</th>\n",
       "      <td>730.0</td>\n",
       "      <td>730</td>\n",
       "      <td>730</td>\n",
       "    </tr>\n",
       "    <tr>\n",
       "      <th>Adikmet</th>\n",
       "      <td>585.0</td>\n",
       "      <td>585</td>\n",
       "      <td>585</td>\n",
       "    </tr>\n",
       "    <tr>\n",
       "      <th>Alluri Seetaramaraju Nagar</th>\n",
       "      <td>900.0</td>\n",
       "      <td>900</td>\n",
       "      <td>900</td>\n",
       "    </tr>\n",
       "  </tbody>\n",
       "</table>\n",
       "</div>"
      ],
      "text/plain": [
       "                               mean   min   max\n",
       "locality                                       \n",
       "  Chanda Nagar               1100.0  1100  1100\n",
       "  Kukatpally                  800.0   800   800\n",
       "  Nacharam                    730.0   730   730\n",
       " Adikmet                      585.0   585   585\n",
       " Alluri Seetaramaraju Nagar   900.0   900   900"
      ]
     },
     "execution_count": 27,
     "metadata": {},
     "output_type": "execute_result"
    }
   ],
   "source": [
    "df3.groupby('locality')['property_size'].agg(mean='mean',min='min',max='max').head(5)"
   ]
  },
  {
   "cell_type": "markdown",
   "id": "96d8d6c0",
   "metadata": {},
   "source": [
    "Q4. Is there a relationship between the floor number and the rent amount?"
   ]
  },
  {
   "cell_type": "code",
   "execution_count": 28,
   "id": "f592c632",
   "metadata": {},
   "outputs": [],
   "source": [
    "def categorize_floor(floor):\n",
    "    if floor >=0 and floor <=2:\n",
    "        return 'floors0-2'\n",
    "    elif floor >=3 and floor <=6:\n",
    "        return 'floors3-6'\n",
    "    else:\n",
    "        return 'floors6 and above'\n",
    "    \n",
    "    \n",
    "    \n",
    "df3['floor_cat']=df3['floor'].apply(categorize_floor)"
   ]
  },
  {
   "cell_type": "code",
   "execution_count": 29,
   "id": "2a0ee486",
   "metadata": {},
   "outputs": [
    {
     "data": {
      "text/plain": [
       "floor_cat\n",
       "floors0-2            14521.7\n",
       "floors3-6            18064.5\n",
       "floors6 and above    29705.2\n",
       "Name: rent_amount, dtype: float64"
      ]
     },
     "execution_count": 29,
     "metadata": {},
     "output_type": "execute_result"
    }
   ],
   "source": [
    "df3.groupby('floor_cat')['rent_amount'].mean().round(1)"
   ]
  },
  {
   "cell_type": "markdown",
   "id": "3dab39f4",
   "metadata": {},
   "source": [
    "Q5. How does the furnishing status affect the rent amount?"
   ]
  },
  {
   "cell_type": "code",
   "execution_count": 30,
   "id": "67ac9d19",
   "metadata": {},
   "outputs": [
    {
     "data": {
      "text/plain": [
       "furnishingdesc\n",
       "Full           23952.680036\n",
       "Semi           19524.314295\n",
       "Unfurnished    10376.298106\n",
       "Name: rent_amount, dtype: float64"
      ]
     },
     "execution_count": 30,
     "metadata": {},
     "output_type": "execute_result"
    }
   ],
   "source": [
    "df3.groupby('furnishingdesc')['rent_amount'].mean()"
   ]
  },
  {
   "cell_type": "markdown",
   "id": "5eddbb9a",
   "metadata": {},
   "source": [
    "Q6.What is the average deposit required in different localities?"
   ]
  },
  {
   "cell_type": "code",
   "execution_count": 31,
   "id": "63a8c956",
   "metadata": {},
   "outputs": [
    {
     "data": {
      "text/plain": [
       "50408.8"
      ]
     },
     "execution_count": 31,
     "metadata": {},
     "output_type": "execute_result"
    }
   ],
   "source": [
    "df3.groupby('locality')['deposit'].mean().round(1).loc['Gachibowli']"
   ]
  },
  {
   "cell_type": "markdown",
   "id": "2e80eae9",
   "metadata": {},
   "source": [
    "Q7.How many properties offer both bike and car parking, and how does this affect\n",
    "rent?"
   ]
  },
  {
   "cell_type": "code",
   "execution_count": 32,
   "id": "5a89fdca",
   "metadata": {},
   "outputs": [
    {
     "data": {
      "text/plain": [
       "parking       propertytype\n",
       "BOTH          RENT            6178\n",
       "FOUR_WHEELER  RENT             744\n",
       "NONE          RENT             608\n",
       "TWO_WHEELER   RENT            4431\n",
       "dtype: int64"
      ]
     },
     "execution_count": 32,
     "metadata": {},
     "output_type": "execute_result"
    }
   ],
   "source": [
    "df3.groupby(['parking','propertytype']).size()"
   ]
  },
  {
   "cell_type": "code",
   "execution_count": 33,
   "id": "28a0b9f2",
   "metadata": {},
   "outputs": [
    {
     "data": {
      "text/plain": [
       "parking\n",
       "BOTH            20224.5\n",
       "FOUR_WHEELER    22793.4\n",
       "NONE             9129.9\n",
       "TWO_WHEELER     10382.8\n",
       "Name: rent_amount, dtype: float64"
      ]
     },
     "execution_count": 33,
     "metadata": {},
     "output_type": "execute_result"
    }
   ],
   "source": [
    "df3.groupby('parking')['rent_amount'].mean().round(1)"
   ]
  },
  {
   "cell_type": "markdown",
   "id": "acef6246",
   "metadata": {},
   "source": [
    "Q7. Are there differences in rent between properties facing different directions?"
   ]
  },
  {
   "cell_type": "code",
   "execution_count": 34,
   "id": "44e4a461",
   "metadata": {},
   "outputs": [
    {
     "data": {
      "text/plain": [
       "facingdesc\n",
       "Don't Know    13967.8\n",
       "East          16499.9\n",
       "None          13469.4\n",
       "North         15234.9\n",
       "Name: rent_amount, dtype: float64"
      ]
     },
     "execution_count": 34,
     "metadata": {},
     "output_type": "execute_result"
    }
   ],
   "source": [
    "df.groupby('facingdesc')['rent_amount'].mean().round(1).head(4)"
   ]
  },
  {
   "cell_type": "code",
   "execution_count": null,
   "id": "9f4bd64f",
   "metadata": {},
   "outputs": [],
   "source": []
  },
  {
   "cell_type": "code",
   "execution_count": 35,
   "id": "c97b655a",
   "metadata": {},
   "outputs": [],
   "source": [
    "# How does the average property price vary by BHK (bedrooms)"
   ]
  },
  {
   "cell_type": "code",
   "execution_count": 36,
   "id": "68ee72bd",
   "metadata": {},
   "outputs": [
    {
     "data": {
      "text/plain": [
       "type_bhk\n",
       "BHK1         8382.3\n",
       "BHK2        17012.8\n",
       "BHK3        25824.0\n",
       "BHK4        37408.7\n",
       "BHK4PLUS    53848.5\n",
       "RK1          4550.9\n",
       "Name: rent_amount, dtype: float64"
      ]
     },
     "execution_count": 36,
     "metadata": {},
     "output_type": "execute_result"
    }
   ],
   "source": [
    "df3.groupby('type_bhk')['rent_amount'].mean().round(1)"
   ]
  },
  {
   "cell_type": "markdown",
   "id": "480cdd15",
   "metadata": {},
   "source": [
    "how deposit varies furnishing status"
   ]
  },
  {
   "cell_type": "code",
   "execution_count": 38,
   "id": "454d7dbb",
   "metadata": {},
   "outputs": [
    {
     "data": {
      "text/plain": [
       "furnishingdesc\n",
       "Full           57200.4\n",
       "Semi           44242.7\n",
       "Unfurnished    21033.3\n",
       "Name: deposit, dtype: float64"
      ]
     },
     "execution_count": 38,
     "metadata": {},
     "output_type": "execute_result"
    }
   ],
   "source": [
    "df3.groupby('furnishingdesc')['deposit'].mean().round(1)"
   ]
  },
  {
   "cell_type": "markdown",
   "id": "48f0f449",
   "metadata": {},
   "source": [
    "Q. How does bathroom effect type_bhk ( means how bathroom related to bhk_type"
   ]
  },
  {
   "cell_type": "code",
   "execution_count": 42,
   "id": "3e7e3f37",
   "metadata": {},
   "outputs": [
    {
     "data": {
      "text/plain": [
       "type_bhk\n",
       "BHK1        1.0\n",
       "BHK2        2.0\n",
       "BHK3        3.0\n",
       "BHK4        4.0\n",
       "BHK4PLUS    6.0\n",
       "RK1         1.0\n",
       "Name: bathroom, dtype: float64"
      ]
     },
     "execution_count": 42,
     "metadata": {},
     "output_type": "execute_result"
    }
   ],
   "source": [
    "df3.groupby('type_bhk')['bathroom'].mean().round(0)     # this will tell on an avg how many bathroom there for 1bhk,2 bhk "
   ]
  }
 ],
 "metadata": {
  "kernelspec": {
   "display_name": "Python 3 (ipykernel)",
   "language": "python",
   "name": "python3"
  },
  "language_info": {
   "codemirror_mode": {
    "name": "ipython",
    "version": 3
   },
   "file_extension": ".py",
   "mimetype": "text/x-python",
   "name": "python",
   "nbconvert_exporter": "python",
   "pygments_lexer": "ipython3",
   "version": "3.11.3"
  }
 },
 "nbformat": 4,
 "nbformat_minor": 5
}
